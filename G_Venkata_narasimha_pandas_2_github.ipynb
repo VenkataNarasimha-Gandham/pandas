{
 "cells": [
  {
   "cell_type": "markdown",
   "id": "3f6574c4",
   "metadata": {},
   "source": [
    "- Combine visits and cart using a left merge.\n",
    "- How long is your merged DataFrame?\n",
    "- How many of the timestamps are null for the column cart_time?\n",
    "- What percent of users who visited site ended up not placing a t-shirt in their cart?\n",
    "- Repeat the left merge for cart and checkout and count null values. What percentage of users put items in their cart, but did not proceed to checkout?"
   ]
  },
  {
   "cell_type": "code",
   "execution_count": 2,
   "id": "359b4502",
   "metadata": {},
   "outputs": [],
   "source": [
    "import numpy as np\n",
    "import pandas as pd"
   ]
  },
  {
   "cell_type": "code",
   "execution_count": 55,
   "id": "2ef6ef59",
   "metadata": {},
   "outputs": [],
   "source": [
    "purchase=pd.read_csv(r\"C:\\Users\\hp\\Downloads\\assignment 2 pandas\\purchase.csv\")\n",
    "visits=pd.read_csv(r\"C:\\Users\\hp\\Downloads\\assignment 2 pandas\\visits.csv\")\n",
    "cart=pd.read_csv(r\"C:\\Users\\hp\\Downloads\\assignment 2 pandas\\cart.csv\")\n",
    "checkout=pd.read_csv(r\"C:\\Users\\hp\\Downloads\\assignment 2 pandas\\checkout.csv\")"
   ]
  },
  {
   "cell_type": "code",
   "execution_count": 56,
   "id": "cdfcac72",
   "metadata": {},
   "outputs": [
    {
     "data": {
      "text/html": [
       "<div>\n",
       "<style scoped>\n",
       "    .dataframe tbody tr th:only-of-type {\n",
       "        vertical-align: middle;\n",
       "    }\n",
       "\n",
       "    .dataframe tbody tr th {\n",
       "        vertical-align: top;\n",
       "    }\n",
       "\n",
       "    .dataframe thead th {\n",
       "        text-align: right;\n",
       "    }\n",
       "</style>\n",
       "<table border=\"1\" class=\"dataframe\">\n",
       "  <thead>\n",
       "    <tr style=\"text-align: right;\">\n",
       "      <th></th>\n",
       "      <th>user_id</th>\n",
       "      <th>purchase_time</th>\n",
       "    </tr>\n",
       "  </thead>\n",
       "  <tbody>\n",
       "    <tr>\n",
       "      <th>0</th>\n",
       "      <td>4b44ace4-2721-47a0-b24b-15fbfa2abf85</td>\n",
       "      <td>2017-05-11 04:25:00</td>\n",
       "    </tr>\n",
       "    <tr>\n",
       "      <th>1</th>\n",
       "      <td>02e684ae-a448-408f-a9ff-dcb4a5c99aac</td>\n",
       "      <td>2017-09-05 08:45:00</td>\n",
       "    </tr>\n",
       "    <tr>\n",
       "      <th>2</th>\n",
       "      <td>4b4bc391-749e-4b90-ab8f-4f6e3c84d6dc</td>\n",
       "      <td>2017-11-20 20:49:00</td>\n",
       "    </tr>\n",
       "    <tr>\n",
       "      <th>3</th>\n",
       "      <td>a5dbb25f-3c36-4103-9030-9f7c6241cd8d</td>\n",
       "      <td>2017-01-22 15:18:00</td>\n",
       "    </tr>\n",
       "    <tr>\n",
       "      <th>4</th>\n",
       "      <td>46a3186d-7f5a-4ab9-87af-84d05bfd4867</td>\n",
       "      <td>2017-06-11 11:32:00</td>\n",
       "    </tr>\n",
       "  </tbody>\n",
       "</table>\n",
       "</div>"
      ],
      "text/plain": [
       "                                user_id        purchase_time\n",
       "0  4b44ace4-2721-47a0-b24b-15fbfa2abf85  2017-05-11 04:25:00\n",
       "1  02e684ae-a448-408f-a9ff-dcb4a5c99aac  2017-09-05 08:45:00\n",
       "2  4b4bc391-749e-4b90-ab8f-4f6e3c84d6dc  2017-11-20 20:49:00\n",
       "3  a5dbb25f-3c36-4103-9030-9f7c6241cd8d  2017-01-22 15:18:00\n",
       "4  46a3186d-7f5a-4ab9-87af-84d05bfd4867  2017-06-11 11:32:00"
      ]
     },
     "execution_count": 56,
     "metadata": {},
     "output_type": "execute_result"
    }
   ],
   "source": [
    "purchase.head()"
   ]
  },
  {
   "cell_type": "code",
   "execution_count": 57,
   "id": "ec0a9ed2",
   "metadata": {},
   "outputs": [
    {
     "data": {
      "text/html": [
       "<div>\n",
       "<style scoped>\n",
       "    .dataframe tbody tr th:only-of-type {\n",
       "        vertical-align: middle;\n",
       "    }\n",
       "\n",
       "    .dataframe tbody tr th {\n",
       "        vertical-align: top;\n",
       "    }\n",
       "\n",
       "    .dataframe thead th {\n",
       "        text-align: right;\n",
       "    }\n",
       "</style>\n",
       "<table border=\"1\" class=\"dataframe\">\n",
       "  <thead>\n",
       "    <tr style=\"text-align: right;\">\n",
       "      <th></th>\n",
       "      <th>user_id</th>\n",
       "      <th>visit_time</th>\n",
       "    </tr>\n",
       "  </thead>\n",
       "  <tbody>\n",
       "    <tr>\n",
       "      <th>0</th>\n",
       "      <td>943647ef-3682-4750-a2e1-918ba6f16188</td>\n",
       "      <td>2017-04-07 15:14:00</td>\n",
       "    </tr>\n",
       "    <tr>\n",
       "      <th>1</th>\n",
       "      <td>0c3a3dd0-fb64-4eac-bf84-ba069ce409f2</td>\n",
       "      <td>2017-01-26 14:24:00</td>\n",
       "    </tr>\n",
       "    <tr>\n",
       "      <th>2</th>\n",
       "      <td>6e0b2d60-4027-4d9a-babd-0e7d40859fb1</td>\n",
       "      <td>2017-08-20 08:23:00</td>\n",
       "    </tr>\n",
       "    <tr>\n",
       "      <th>3</th>\n",
       "      <td>6879527e-c5a6-4d14-b2da-50b85212b0ab</td>\n",
       "      <td>2017-11-04 18:15:00</td>\n",
       "    </tr>\n",
       "    <tr>\n",
       "      <th>4</th>\n",
       "      <td>a84327ff-5daa-4ba1-b789-d5b4caf81e96</td>\n",
       "      <td>2017-02-27 11:25:00</td>\n",
       "    </tr>\n",
       "  </tbody>\n",
       "</table>\n",
       "</div>"
      ],
      "text/plain": [
       "                                user_id           visit_time\n",
       "0  943647ef-3682-4750-a2e1-918ba6f16188  2017-04-07 15:14:00\n",
       "1  0c3a3dd0-fb64-4eac-bf84-ba069ce409f2  2017-01-26 14:24:00\n",
       "2  6e0b2d60-4027-4d9a-babd-0e7d40859fb1  2017-08-20 08:23:00\n",
       "3  6879527e-c5a6-4d14-b2da-50b85212b0ab  2017-11-04 18:15:00\n",
       "4  a84327ff-5daa-4ba1-b789-d5b4caf81e96  2017-02-27 11:25:00"
      ]
     },
     "execution_count": 57,
     "metadata": {},
     "output_type": "execute_result"
    }
   ],
   "source": [
    "visits.head()"
   ]
  },
  {
   "cell_type": "code",
   "execution_count": 58,
   "id": "e34b72b5",
   "metadata": {},
   "outputs": [
    {
     "data": {
      "text/html": [
       "<div>\n",
       "<style scoped>\n",
       "    .dataframe tbody tr th:only-of-type {\n",
       "        vertical-align: middle;\n",
       "    }\n",
       "\n",
       "    .dataframe tbody tr th {\n",
       "        vertical-align: top;\n",
       "    }\n",
       "\n",
       "    .dataframe thead th {\n",
       "        text-align: right;\n",
       "    }\n",
       "</style>\n",
       "<table border=\"1\" class=\"dataframe\">\n",
       "  <thead>\n",
       "    <tr style=\"text-align: right;\">\n",
       "      <th></th>\n",
       "      <th>user_id</th>\n",
       "      <th>cart_time</th>\n",
       "    </tr>\n",
       "  </thead>\n",
       "  <tbody>\n",
       "    <tr>\n",
       "      <th>0</th>\n",
       "      <td>2be90e7c-9cca-44e0-bcc5-124b945ff168</td>\n",
       "      <td>2017-11-07 20:45:00</td>\n",
       "    </tr>\n",
       "    <tr>\n",
       "      <th>1</th>\n",
       "      <td>4397f73f-1da3-4ab3-91af-762792e25973</td>\n",
       "      <td>2017-05-27 01:35:00</td>\n",
       "    </tr>\n",
       "    <tr>\n",
       "      <th>2</th>\n",
       "      <td>a9db3d4b-0a0a-4398-a55a-ebb2c7adf663</td>\n",
       "      <td>2017-03-04 10:38:00</td>\n",
       "    </tr>\n",
       "    <tr>\n",
       "      <th>3</th>\n",
       "      <td>b594862a-36c5-47d5-b818-6e9512b939b3</td>\n",
       "      <td>2017-09-27 08:22:00</td>\n",
       "    </tr>\n",
       "    <tr>\n",
       "      <th>4</th>\n",
       "      <td>a68a16e2-94f0-4ce8-8ce3-784af0bbb974</td>\n",
       "      <td>2017-07-26 15:48:00</td>\n",
       "    </tr>\n",
       "  </tbody>\n",
       "</table>\n",
       "</div>"
      ],
      "text/plain": [
       "                                user_id            cart_time\n",
       "0  2be90e7c-9cca-44e0-bcc5-124b945ff168  2017-11-07 20:45:00\n",
       "1  4397f73f-1da3-4ab3-91af-762792e25973  2017-05-27 01:35:00\n",
       "2  a9db3d4b-0a0a-4398-a55a-ebb2c7adf663  2017-03-04 10:38:00\n",
       "3  b594862a-36c5-47d5-b818-6e9512b939b3  2017-09-27 08:22:00\n",
       "4  a68a16e2-94f0-4ce8-8ce3-784af0bbb974  2017-07-26 15:48:00"
      ]
     },
     "execution_count": 58,
     "metadata": {},
     "output_type": "execute_result"
    }
   ],
   "source": [
    "cart.head()"
   ]
  },
  {
   "cell_type": "code",
   "execution_count": 59,
   "id": "b935ffd2",
   "metadata": {},
   "outputs": [
    {
     "data": {
      "text/html": [
       "<div>\n",
       "<style scoped>\n",
       "    .dataframe tbody tr th:only-of-type {\n",
       "        vertical-align: middle;\n",
       "    }\n",
       "\n",
       "    .dataframe tbody tr th {\n",
       "        vertical-align: top;\n",
       "    }\n",
       "\n",
       "    .dataframe thead th {\n",
       "        text-align: right;\n",
       "    }\n",
       "</style>\n",
       "<table border=\"1\" class=\"dataframe\">\n",
       "  <thead>\n",
       "    <tr style=\"text-align: right;\">\n",
       "      <th></th>\n",
       "      <th>user_id</th>\n",
       "      <th>checkout_time</th>\n",
       "    </tr>\n",
       "  </thead>\n",
       "  <tbody>\n",
       "    <tr>\n",
       "      <th>0</th>\n",
       "      <td>d33bdc47-4afa-45bc-b4e4-dbe948e34c0d</td>\n",
       "      <td>2017-06-25 09:29:00</td>\n",
       "    </tr>\n",
       "    <tr>\n",
       "      <th>1</th>\n",
       "      <td>4ac186f0-9954-4fea-8a27-c081e428e34e</td>\n",
       "      <td>2017-04-07 20:11:00</td>\n",
       "    </tr>\n",
       "    <tr>\n",
       "      <th>2</th>\n",
       "      <td>3c9c78a7-124a-4b77-8d2e-e1926e011e7d</td>\n",
       "      <td>2017-07-13 11:38:00</td>\n",
       "    </tr>\n",
       "    <tr>\n",
       "      <th>3</th>\n",
       "      <td>89fe330a-8966-4756-8f7c-3bdbcd47279a</td>\n",
       "      <td>2017-04-20 16:15:00</td>\n",
       "    </tr>\n",
       "    <tr>\n",
       "      <th>4</th>\n",
       "      <td>3ccdaf69-2d30-40de-b083-51372881aedd</td>\n",
       "      <td>2017-01-08 20:52:00</td>\n",
       "    </tr>\n",
       "  </tbody>\n",
       "</table>\n",
       "</div>"
      ],
      "text/plain": [
       "                                user_id        checkout_time\n",
       "0  d33bdc47-4afa-45bc-b4e4-dbe948e34c0d  2017-06-25 09:29:00\n",
       "1  4ac186f0-9954-4fea-8a27-c081e428e34e  2017-04-07 20:11:00\n",
       "2  3c9c78a7-124a-4b77-8d2e-e1926e011e7d  2017-07-13 11:38:00\n",
       "3  89fe330a-8966-4756-8f7c-3bdbcd47279a  2017-04-20 16:15:00\n",
       "4  3ccdaf69-2d30-40de-b083-51372881aedd  2017-01-08 20:52:00"
      ]
     },
     "execution_count": 59,
     "metadata": {},
     "output_type": "execute_result"
    }
   ],
   "source": [
    "checkout.head()"
   ]
  },
  {
   "cell_type": "markdown",
   "id": "359f79c4",
   "metadata": {},
   "source": [
    "**1) Combine visits and cart using a left merge.**"
   ]
  },
  {
   "cell_type": "code",
   "execution_count": 74,
   "id": "e6310cb4",
   "metadata": {},
   "outputs": [
    {
     "data": {
      "text/html": [
       "<div>\n",
       "<style scoped>\n",
       "    .dataframe tbody tr th:only-of-type {\n",
       "        vertical-align: middle;\n",
       "    }\n",
       "\n",
       "    .dataframe tbody tr th {\n",
       "        vertical-align: top;\n",
       "    }\n",
       "\n",
       "    .dataframe thead th {\n",
       "        text-align: right;\n",
       "    }\n",
       "</style>\n",
       "<table border=\"1\" class=\"dataframe\">\n",
       "  <thead>\n",
       "    <tr style=\"text-align: right;\">\n",
       "      <th></th>\n",
       "      <th>user_id</th>\n",
       "      <th>visit_time</th>\n",
       "      <th>cart_time</th>\n",
       "    </tr>\n",
       "  </thead>\n",
       "  <tbody>\n",
       "    <tr>\n",
       "      <th>0</th>\n",
       "      <td>943647ef-3682-4750-a2e1-918ba6f16188</td>\n",
       "      <td>2017-04-07 15:14:00</td>\n",
       "      <td>NaN</td>\n",
       "    </tr>\n",
       "    <tr>\n",
       "      <th>1</th>\n",
       "      <td>0c3a3dd0-fb64-4eac-bf84-ba069ce409f2</td>\n",
       "      <td>2017-01-26 14:24:00</td>\n",
       "      <td>2017-01-26 14:44:00</td>\n",
       "    </tr>\n",
       "    <tr>\n",
       "      <th>2</th>\n",
       "      <td>6e0b2d60-4027-4d9a-babd-0e7d40859fb1</td>\n",
       "      <td>2017-08-20 08:23:00</td>\n",
       "      <td>2017-08-20 08:31:00</td>\n",
       "    </tr>\n",
       "    <tr>\n",
       "      <th>3</th>\n",
       "      <td>6879527e-c5a6-4d14-b2da-50b85212b0ab</td>\n",
       "      <td>2017-11-04 18:15:00</td>\n",
       "      <td>NaN</td>\n",
       "    </tr>\n",
       "    <tr>\n",
       "      <th>4</th>\n",
       "      <td>a84327ff-5daa-4ba1-b789-d5b4caf81e96</td>\n",
       "      <td>2017-02-27 11:25:00</td>\n",
       "      <td>NaN</td>\n",
       "    </tr>\n",
       "    <tr>\n",
       "      <th>...</th>\n",
       "      <td>...</td>\n",
       "      <td>...</td>\n",
       "      <td>...</td>\n",
       "    </tr>\n",
       "    <tr>\n",
       "      <th>1995</th>\n",
       "      <td>33913ac2-03da-45ae-8fc3-fea39df827c6</td>\n",
       "      <td>2017-03-25 03:29:00</td>\n",
       "      <td>NaN</td>\n",
       "    </tr>\n",
       "    <tr>\n",
       "      <th>1996</th>\n",
       "      <td>4f850132-b99d-4623-80e6-6e61d003577e</td>\n",
       "      <td>2017-01-08 09:57:00</td>\n",
       "      <td>NaN</td>\n",
       "    </tr>\n",
       "    <tr>\n",
       "      <th>1997</th>\n",
       "      <td>f0830b9b-1f5c-4e74-b63d-3f847cc6ce70</td>\n",
       "      <td>2017-09-07 12:56:00</td>\n",
       "      <td>NaN</td>\n",
       "    </tr>\n",
       "    <tr>\n",
       "      <th>1998</th>\n",
       "      <td>b01bffa7-63ba-4cd3-9d93-eb1477c23831</td>\n",
       "      <td>2017-07-20 04:37:00</td>\n",
       "      <td>NaN</td>\n",
       "    </tr>\n",
       "    <tr>\n",
       "      <th>1999</th>\n",
       "      <td>0336ca81-8d68-443f-9248-ac0b8ad147d5</td>\n",
       "      <td>2017-11-15 10:11:00</td>\n",
       "      <td>NaN</td>\n",
       "    </tr>\n",
       "  </tbody>\n",
       "</table>\n",
       "<p>2000 rows × 3 columns</p>\n",
       "</div>"
      ],
      "text/plain": [
       "                                   user_id           visit_time  \\\n",
       "0     943647ef-3682-4750-a2e1-918ba6f16188  2017-04-07 15:14:00   \n",
       "1     0c3a3dd0-fb64-4eac-bf84-ba069ce409f2  2017-01-26 14:24:00   \n",
       "2     6e0b2d60-4027-4d9a-babd-0e7d40859fb1  2017-08-20 08:23:00   \n",
       "3     6879527e-c5a6-4d14-b2da-50b85212b0ab  2017-11-04 18:15:00   \n",
       "4     a84327ff-5daa-4ba1-b789-d5b4caf81e96  2017-02-27 11:25:00   \n",
       "...                                    ...                  ...   \n",
       "1995  33913ac2-03da-45ae-8fc3-fea39df827c6  2017-03-25 03:29:00   \n",
       "1996  4f850132-b99d-4623-80e6-6e61d003577e  2017-01-08 09:57:00   \n",
       "1997  f0830b9b-1f5c-4e74-b63d-3f847cc6ce70  2017-09-07 12:56:00   \n",
       "1998  b01bffa7-63ba-4cd3-9d93-eb1477c23831  2017-07-20 04:37:00   \n",
       "1999  0336ca81-8d68-443f-9248-ac0b8ad147d5  2017-11-15 10:11:00   \n",
       "\n",
       "                cart_time  \n",
       "0                     NaN  \n",
       "1     2017-01-26 14:44:00  \n",
       "2     2017-08-20 08:31:00  \n",
       "3                     NaN  \n",
       "4                     NaN  \n",
       "...                   ...  \n",
       "1995                  NaN  \n",
       "1996                  NaN  \n",
       "1997                  NaN  \n",
       "1998                  NaN  \n",
       "1999                  NaN  \n",
       "\n",
       "[2000 rows x 3 columns]"
      ]
     },
     "execution_count": 74,
     "metadata": {},
     "output_type": "execute_result"
    }
   ],
   "source": [
    "visits_cart=pd.merge(visits,cart,\"left\")\n",
    "visits_cart"
   ]
  },
  {
   "cell_type": "markdown",
   "id": "0950b0fc",
   "metadata": {},
   "source": [
    "**2) How long is your merged DataFrame?**"
   ]
  },
  {
   "cell_type": "code",
   "execution_count": 65,
   "id": "92a2ba2f",
   "metadata": {},
   "outputs": [
    {
     "name": "stdout",
     "output_type": "stream",
     "text": [
      "length of merged DataFrame : 2000\n"
     ]
    }
   ],
   "source": [
    "print(\"length of merged DataFrame :\",len(visits_cart))"
   ]
  },
  {
   "cell_type": "markdown",
   "id": "36dcd350",
   "metadata": {},
   "source": [
    "**3) How many of the timestamps are null for the column cart_time?**"
   ]
  },
  {
   "cell_type": "code",
   "execution_count": 66,
   "id": "15fbf2af",
   "metadata": {},
   "outputs": [
    {
     "data": {
      "text/plain": [
       "1652"
      ]
     },
     "execution_count": 66,
     "metadata": {},
     "output_type": "execute_result"
    }
   ],
   "source": [
    "visits_cart.cart_time.isna().sum()"
   ]
  },
  {
   "cell_type": "markdown",
   "id": "0d231bb3",
   "metadata": {},
   "source": [
    "**4) What percent of users who visited site ended up not placing a t-shirt in their cart?**"
   ]
  },
  {
   "cell_type": "code",
   "execution_count": 68,
   "id": "06415c72",
   "metadata": {},
   "outputs": [
    {
     "name": "stdout",
     "output_type": "stream",
     "text": [
      "percentage of users who visited site ended up not placing a t-shirt in their cart : 82.6\n"
     ]
    }
   ],
   "source": [
    "#method 1\n",
    "print(\"percentage of users who visited site ended up not placing a t-shirt in their cart :\",((len(visits)-len(cart))/len(visits))*100)"
   ]
  },
  {
   "cell_type": "code",
   "execution_count": 71,
   "id": "4d1d06b6",
   "metadata": {},
   "outputs": [
    {
     "data": {
      "text/plain": [
       "82.6"
      ]
     },
     "execution_count": 71,
     "metadata": {},
     "output_type": "execute_result"
    }
   ],
   "source": [
    "# method 2\n",
    "percentage=(visits.value_counts(visits[\"user_id\"]).sum()-cart.value_counts(cart[\"user_id\"]).sum())/(visits.value_counts(visits[\"user_id\"]).sum())*100\n",
    "percentage"
   ]
  },
  {
   "cell_type": "markdown",
   "id": "38a0507c",
   "metadata": {},
   "source": [
    "**5) Repeat the left merge for cart and checkout and count null values. What percentage of users put items in their cart, but did not proceed to checkout?**"
   ]
  },
  {
   "cell_type": "code",
   "execution_count": 75,
   "id": "e56eb094",
   "metadata": {},
   "outputs": [
    {
     "data": {
      "text/html": [
       "<div>\n",
       "<style scoped>\n",
       "    .dataframe tbody tr th:only-of-type {\n",
       "        vertical-align: middle;\n",
       "    }\n",
       "\n",
       "    .dataframe tbody tr th {\n",
       "        vertical-align: top;\n",
       "    }\n",
       "\n",
       "    .dataframe thead th {\n",
       "        text-align: right;\n",
       "    }\n",
       "</style>\n",
       "<table border=\"1\" class=\"dataframe\">\n",
       "  <thead>\n",
       "    <tr style=\"text-align: right;\">\n",
       "      <th></th>\n",
       "      <th>user_id</th>\n",
       "      <th>cart_time</th>\n",
       "      <th>checkout_time</th>\n",
       "    </tr>\n",
       "  </thead>\n",
       "  <tbody>\n",
       "    <tr>\n",
       "      <th>0</th>\n",
       "      <td>2be90e7c-9cca-44e0-bcc5-124b945ff168</td>\n",
       "      <td>2017-11-07 20:45:00</td>\n",
       "      <td>2017-11-07 21:14:00</td>\n",
       "    </tr>\n",
       "    <tr>\n",
       "      <th>1</th>\n",
       "      <td>2be90e7c-9cca-44e0-bcc5-124b945ff168</td>\n",
       "      <td>2017-11-07 20:45:00</td>\n",
       "      <td>2017-11-07 20:50:00</td>\n",
       "    </tr>\n",
       "    <tr>\n",
       "      <th>2</th>\n",
       "      <td>2be90e7c-9cca-44e0-bcc5-124b945ff168</td>\n",
       "      <td>2017-11-07 20:45:00</td>\n",
       "      <td>2017-11-07 21:11:00</td>\n",
       "    </tr>\n",
       "    <tr>\n",
       "      <th>3</th>\n",
       "      <td>4397f73f-1da3-4ab3-91af-762792e25973</td>\n",
       "      <td>2017-05-27 01:35:00</td>\n",
       "      <td>NaN</td>\n",
       "    </tr>\n",
       "    <tr>\n",
       "      <th>4</th>\n",
       "      <td>a9db3d4b-0a0a-4398-a55a-ebb2c7adf663</td>\n",
       "      <td>2017-03-04 10:38:00</td>\n",
       "      <td>2017-03-04 11:04:00</td>\n",
       "    </tr>\n",
       "    <tr>\n",
       "      <th>...</th>\n",
       "      <td>...</td>\n",
       "      <td>...</td>\n",
       "      <td>...</td>\n",
       "    </tr>\n",
       "    <tr>\n",
       "      <th>477</th>\n",
       "      <td>59d2b685-383a-4fce-a325-35d985713a8b</td>\n",
       "      <td>2017-01-20 03:58:00</td>\n",
       "      <td>NaN</td>\n",
       "    </tr>\n",
       "    <tr>\n",
       "      <th>478</th>\n",
       "      <td>a1203970-92ae-4fc7-843e-e1740c1be9d5</td>\n",
       "      <td>2017-11-12 23:07:00</td>\n",
       "      <td>NaN</td>\n",
       "    </tr>\n",
       "    <tr>\n",
       "      <th>479</th>\n",
       "      <td>55de53ae-89f6-43ff-a26d-df284678aca1</td>\n",
       "      <td>2017-03-17 19:56:00</td>\n",
       "      <td>2017-03-17 20:04:00</td>\n",
       "    </tr>\n",
       "    <tr>\n",
       "      <th>480</th>\n",
       "      <td>0ea4cc68-dae4-4e35-b3e0-f0889932e1b5</td>\n",
       "      <td>2017-05-12 08:53:00</td>\n",
       "      <td>2017-05-12 08:57:00</td>\n",
       "    </tr>\n",
       "    <tr>\n",
       "      <th>481</th>\n",
       "      <td>0ea4cc68-dae4-4e35-b3e0-f0889932e1b5</td>\n",
       "      <td>2017-05-12 08:53:00</td>\n",
       "      <td>2017-05-12 09:20:00</td>\n",
       "    </tr>\n",
       "  </tbody>\n",
       "</table>\n",
       "<p>482 rows × 3 columns</p>\n",
       "</div>"
      ],
      "text/plain": [
       "                                  user_id            cart_time  \\\n",
       "0    2be90e7c-9cca-44e0-bcc5-124b945ff168  2017-11-07 20:45:00   \n",
       "1    2be90e7c-9cca-44e0-bcc5-124b945ff168  2017-11-07 20:45:00   \n",
       "2    2be90e7c-9cca-44e0-bcc5-124b945ff168  2017-11-07 20:45:00   \n",
       "3    4397f73f-1da3-4ab3-91af-762792e25973  2017-05-27 01:35:00   \n",
       "4    a9db3d4b-0a0a-4398-a55a-ebb2c7adf663  2017-03-04 10:38:00   \n",
       "..                                    ...                  ...   \n",
       "477  59d2b685-383a-4fce-a325-35d985713a8b  2017-01-20 03:58:00   \n",
       "478  a1203970-92ae-4fc7-843e-e1740c1be9d5  2017-11-12 23:07:00   \n",
       "479  55de53ae-89f6-43ff-a26d-df284678aca1  2017-03-17 19:56:00   \n",
       "480  0ea4cc68-dae4-4e35-b3e0-f0889932e1b5  2017-05-12 08:53:00   \n",
       "481  0ea4cc68-dae4-4e35-b3e0-f0889932e1b5  2017-05-12 08:53:00   \n",
       "\n",
       "           checkout_time  \n",
       "0    2017-11-07 21:14:00  \n",
       "1    2017-11-07 20:50:00  \n",
       "2    2017-11-07 21:11:00  \n",
       "3                    NaN  \n",
       "4    2017-03-04 11:04:00  \n",
       "..                   ...  \n",
       "477                  NaN  \n",
       "478                  NaN  \n",
       "479  2017-03-17 20:04:00  \n",
       "480  2017-05-12 08:57:00  \n",
       "481  2017-05-12 09:20:00  \n",
       "\n",
       "[482 rows x 3 columns]"
      ]
     },
     "execution_count": 75,
     "metadata": {},
     "output_type": "execute_result"
    }
   ],
   "source": [
    "cart_checkout=pd.merge(cart,checkout,\"left\")\n",
    "cart_checkout"
   ]
  },
  {
   "cell_type": "code",
   "execution_count": 76,
   "id": "a4c60918",
   "metadata": {},
   "outputs": [
    {
     "data": {
      "text/plain": [
       "user_id            0\n",
       "cart_time          0\n",
       "checkout_time    122\n",
       "dtype: int64"
      ]
     },
     "execution_count": 76,
     "metadata": {},
     "output_type": "execute_result"
    }
   ],
   "source": [
    "cart_checkout.isna().sum()"
   ]
  },
  {
   "cell_type": "code",
   "execution_count": 78,
   "id": "e4f50f5e",
   "metadata": {},
   "outputs": [
    {
     "data": {
      "text/plain": [
       "74.68879668049793"
      ]
     },
     "execution_count": 78,
     "metadata": {},
     "output_type": "execute_result"
    }
   ],
   "source": [
    "percentage_not_checkout=((len(cart_checkout.cart_time)-cart_checkout.checkout_time.isna().sum())/len(cart_checkout.cart_time))*100\n",
    "percentage_not_checkout"
   ]
  },
  {
   "cell_type": "code",
   "execution_count": null,
   "id": "8c34f38b",
   "metadata": {},
   "outputs": [],
   "source": []
  }
 ],
 "metadata": {
  "kernelspec": {
   "display_name": "Python 3 (ipykernel)",
   "language": "python",
   "name": "python3"
  },
  "language_info": {
   "codemirror_mode": {
    "name": "ipython",
    "version": 3
   },
   "file_extension": ".py",
   "mimetype": "text/x-python",
   "name": "python",
   "nbconvert_exporter": "python",
   "pygments_lexer": "ipython3",
   "version": "3.9.13"
  }
 },
 "nbformat": 4,
 "nbformat_minor": 5
}
